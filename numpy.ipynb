{
 "cells": [
  {
   "cell_type": "code",
   "execution_count": 1,
   "id": "335a0f87",
   "metadata": {},
   "outputs": [],
   "source": [
    "!pip install numpy --upgrade --quiet"
   ]
  },
  {
   "cell_type": "code",
   "execution_count": 1,
   "id": "abd9f242",
   "metadata": {},
   "outputs": [],
   "source": [
    "import numpy as np"
   ]
  },
  {
   "cell_type": "markdown",
   "id": "12a35b35",
   "metadata": {},
   "source": [
    "# 1D array"
   ]
  },
  {
   "cell_type": "code",
   "execution_count": 31,
   "id": "94aafbc7",
   "metadata": {},
   "outputs": [
    {
     "name": "stdout",
     "output_type": "stream",
     "text": [
      "CPU times: total: 0 ns\n",
      "Wall time: 0 ns\n",
      "[1 2 3 4]\n",
      "<class 'numpy.ndarray'>\n",
      "1\n"
     ]
    }
   ],
   "source": [
    "# array\n",
    "%time\n",
    "x=np.array([1,2,3,4])\n",
    "print(x)\n",
    "print(type(x))\n",
    "print(x.ndim)\n"
   ]
  },
  {
   "cell_type": "code",
   "execution_count": 20,
   "id": "eca35336",
   "metadata": {
    "scrolled": true
   },
   "outputs": [
    {
     "name": "stdout",
     "output_type": "stream",
     "text": [
      "CPU times: total: 0 ns\n",
      "Wall time: 0 ns\n",
      "[1, 2, 3, 4]\n",
      "<class 'list'>\n"
     ]
    }
   ],
   "source": [
    "# list\n",
    "%time\n",
    "y=[1,2,3,4]\n",
    "print(y)\n",
    "print(type(y))\n"
   ]
  },
  {
   "cell_type": "markdown",
   "id": "b923ba20",
   "metadata": {},
   "source": [
    "# Input from user"
   ]
  },
  {
   "cell_type": "code",
   "execution_count": 32,
   "id": "8db99962",
   "metadata": {},
   "outputs": [
    {
     "name": "stdout",
     "output_type": "stream",
     "text": [
      "enter the value:12\n",
      "enter the value:13\n",
      "enter the value:14\n",
      "enter the value:15\n",
      "[12 13 14 15]\n"
     ]
    }
   ],
   "source": [
    "l=[]\n",
    "\n",
    "for i in range (1,5):\n",
    "    int_1 = int(input(\"enter the value:\"))\n",
    "    l.append(int_1)\n",
    "    \n",
    "print(np.array(l))\n"
   ]
  },
  {
   "cell_type": "markdown",
   "id": "16776c39",
   "metadata": {},
   "source": [
    "# 2D array"
   ]
  },
  {
   "cell_type": "code",
   "execution_count": 35,
   "id": "cf48a15b",
   "metadata": {},
   "outputs": [
    {
     "name": "stdout",
     "output_type": "stream",
     "text": [
      "[[1 2 3 4]\n",
      " [1 2 3 4]]\n",
      "2\n"
     ]
    }
   ],
   "source": [
    "# 2D Array\n",
    "\n",
    "ar2=np.array([[1,2,3,4],[1,2,3,4]])\n",
    "print(ar2)\n",
    "print(ar2.ndim)"
   ]
  },
  {
   "cell_type": "markdown",
   "id": "4591dcff",
   "metadata": {},
   "source": [
    "# 3D array"
   ]
  },
  {
   "cell_type": "code",
   "execution_count": 36,
   "id": "56bd7728",
   "metadata": {},
   "outputs": [
    {
     "name": "stdout",
     "output_type": "stream",
     "text": [
      "[[[1 2 3 4]\n",
      "  [1 2 3 4]\n",
      "  [1 2 3 4]]]\n",
      "3\n"
     ]
    }
   ],
   "source": [
    "# 3d Array\n",
    "\n",
    "ar3 = np.array([[[1,2,3,4],[1,2,3,4],[1,2,3,4]]])\n",
    "print(ar3)\n",
    "print(ar3.ndim)"
   ]
  },
  {
   "cell_type": "markdown",
   "id": "b9256ea0",
   "metadata": {},
   "source": [
    "# Multi Dimensional array"
   ]
  },
  {
   "cell_type": "code",
   "execution_count": 39,
   "id": "6e2ab9bf",
   "metadata": {},
   "outputs": [
    {
     "name": "stdout",
     "output_type": "stream",
     "text": [
      "[[[[[[[[[[1 2 3 4]]]]]]]]]]\n",
      "10\n"
     ]
    }
   ],
   "source": [
    "#  Multi dimensional array\n",
    "\n",
    "arn = np.array([1,2,3,4],ndmin = 10)\n",
    "print(arn)\n",
    "print(arn.ndim)"
   ]
  },
  {
   "cell_type": "markdown",
   "id": "77ad3a0d",
   "metadata": {},
   "source": [
    "# Zeros"
   ]
  },
  {
   "cell_type": "code",
   "execution_count": 40,
   "id": "55dfeb43",
   "metadata": {},
   "outputs": [
    {
     "name": "stdout",
     "output_type": "stream",
     "text": [
      "[0. 0. 0. 0.]\n",
      "\n",
      "[[0. 0. 0. 0.]\n",
      " [0. 0. 0. 0.]\n",
      " [0. 0. 0. 0.]]\n"
     ]
    }
   ],
   "source": [
    "# Zeros\n",
    "\n",
    "ar_zero = np.zeros(4)\n",
    "ar_zero1 = np.zeros((3,4))\n",
    "print(ar_zero)\n",
    "print()\n",
    "print(ar_zero1)"
   ]
  },
  {
   "cell_type": "markdown",
   "id": "30505037",
   "metadata": {},
   "source": [
    "# Ones"
   ]
  },
  {
   "cell_type": "code",
   "execution_count": 41,
   "id": "8d884e99",
   "metadata": {},
   "outputs": [
    {
     "name": "stdout",
     "output_type": "stream",
     "text": [
      "[1. 1. 1. 1.]\n",
      "\n",
      "[[1. 1. 1. 1.]\n",
      " [1. 1. 1. 1.]\n",
      " [1. 1. 1. 1.]]\n"
     ]
    }
   ],
   "source": [
    "# Ones\n",
    "ar_one = np.ones(4)\n",
    "ar_one1 = np.ones((3,4))\n",
    "print(ar_one)\n",
    "print()\n",
    "print(ar_one1)"
   ]
  },
  {
   "cell_type": "markdown",
   "id": "7292429e",
   "metadata": {},
   "source": [
    "# Empty"
   ]
  },
  {
   "cell_type": "code",
   "execution_count": 47,
   "id": "910df268",
   "metadata": {},
   "outputs": [
    {
     "name": "stdout",
     "output_type": "stream",
     "text": [
      "[7.92481296e-321 1.24610723e-306 1.29061142e-306 5.53353523e-322]\n",
      "\n",
      "[[1. 1. 1. 1.]\n",
      " [1. 1. 1. 1.]\n",
      " [1. 1. 1. 1.]]\n"
     ]
    }
   ],
   "source": [
    "# Empty\n",
    "\n",
    "ar_emp = np.empty(4)\n",
    "print(ar_emp)\n",
    "ar_emp1 = np.empty((3,4))\n",
    "print()\n",
    "print(ar_emp1)\n",
    "    "
   ]
  },
  {
   "cell_type": "markdown",
   "id": "15453f5b",
   "metadata": {},
   "source": [
    "# Range"
   ]
  },
  {
   "cell_type": "code",
   "execution_count": 48,
   "id": "88dcc04b",
   "metadata": {},
   "outputs": [
    {
     "name": "stdout",
     "output_type": "stream",
     "text": [
      "[0 1 2 3]\n"
     ]
    }
   ],
   "source": [
    "# Range\n",
    "\n",
    "ar_rn = np.arange(4)\n",
    "print(ar_rn)"
   ]
  },
  {
   "cell_type": "markdown",
   "id": "1f11b145",
   "metadata": {},
   "source": [
    "# Diagonal"
   ]
  },
  {
   "cell_type": "code",
   "execution_count": 49,
   "id": "5a1b3cfb",
   "metadata": {},
   "outputs": [
    {
     "name": "stdout",
     "output_type": "stream",
     "text": [
      "[[1. 0. 0.]\n",
      " [0. 1. 0.]\n",
      " [0. 0. 1.]]\n"
     ]
    }
   ],
   "source": [
    "# Diagonal 1's\n",
    "\n",
    "ar_diag = np.eye(3)\n",
    "print(ar_diag)"
   ]
  },
  {
   "cell_type": "code",
   "execution_count": 54,
   "id": "f4359d46",
   "metadata": {},
   "outputs": [
    {
     "name": "stdout",
     "output_type": "stream",
     "text": [
      "[[1. 0. 0. 0. 0.]\n",
      " [0. 1. 0. 0. 0.]\n",
      " [0. 0. 1. 0. 0.]]\n"
     ]
    }
   ],
   "source": [
    "ar_diag = np.eye(3,5)\n",
    "print(ar_diag)"
   ]
  },
  {
   "cell_type": "markdown",
   "id": "9cc847d6",
   "metadata": {},
   "source": [
    "# Linespace"
   ]
  },
  {
   "cell_type": "code",
   "execution_count": 59,
   "id": "c43ad588",
   "metadata": {},
   "outputs": [
    {
     "name": "stdout",
     "output_type": "stream",
     "text": [
      "[ 2.  4.  6.  8. 10. 12. 14. 16. 18. 20.]\n"
     ]
    }
   ],
   "source": [
    "# Linspace\n",
    "\n",
    "ar_lin = np.linspace(2,20,num=10)\n",
    "print(ar_lin)"
   ]
  },
  {
   "cell_type": "markdown",
   "id": "d8d1e92c",
   "metadata": {},
   "source": [
    "# Random"
   ]
  },
  {
   "cell_type": "code",
   "execution_count": 61,
   "id": "6df8e9c6",
   "metadata": {},
   "outputs": [
    {
     "name": "stdout",
     "output_type": "stream",
     "text": [
      "[0.36000909 0.37930549 0.51502293 0.41900984]\n"
     ]
    }
   ],
   "source": [
    "# Random\n",
    "# 1.rand(1D Array)\n",
    "\n",
    "var = np.random.rand(4)\n",
    "print(var)"
   ]
  },
  {
   "cell_type": "code",
   "execution_count": 62,
   "id": "cb492c80",
   "metadata": {},
   "outputs": [
    {
     "name": "stdout",
     "output_type": "stream",
     "text": [
      "[[0.69853329 0.45941425 0.94976191 0.29730972]\n",
      " [0.11205298 0.24281478 0.60148262 0.80399553]\n",
      " [0.14383651 0.30398391 0.48022622 0.08274757]]\n"
     ]
    }
   ],
   "source": [
    "#rand(2D array)\n",
    "\n",
    "var1 = np.random.rand(3,4)\n",
    "print(var1)"
   ]
  },
  {
   "cell_type": "code",
   "execution_count": 64,
   "id": "6f621ac6",
   "metadata": {},
   "outputs": [
    {
     "name": "stdout",
     "output_type": "stream",
     "text": [
      "[ 0.6361429   1.8516305   0.07581786 -0.06059468]\n"
     ]
    }
   ],
   "source": [
    "#2.randn()\n",
    "\n",
    "var2 = np.random.randn(4)\n",
    "print(var2)"
   ]
  },
  {
   "cell_type": "code",
   "execution_count": 67,
   "id": "75944bf6",
   "metadata": {},
   "outputs": [
    {
     "name": "stdout",
     "output_type": "stream",
     "text": [
      "[0.73156586 0.18995557 0.60667349 0.51298313]\n"
     ]
    }
   ],
   "source": [
    "#3.ranf()\n",
    "var3 = np.random.ranf(4)\n",
    "print(var3)"
   ]
  },
  {
   "cell_type": "code",
   "execution_count": 2,
   "id": "007330f9",
   "metadata": {},
   "outputs": [
    {
     "name": "stdout",
     "output_type": "stream",
     "text": [
      "[ 8 19  8 17 12]\n"
     ]
    }
   ],
   "source": [
    "# 4.randint()\n",
    "\n",
    "var4 = np.random.randint(5,20,5)\n",
    "print(var4)"
   ]
  },
  {
   "cell_type": "markdown",
   "id": "2dae1f31",
   "metadata": {},
   "source": [
    "# Data Type"
   ]
  },
  {
   "cell_type": "code",
   "execution_count": 71,
   "id": "5970d663",
   "metadata": {},
   "outputs": [
    {
     "name": "stdout",
     "output_type": "stream",
     "text": [
      "data type: int32\n"
     ]
    }
   ],
   "source": [
    "# DATA types\n",
    "#1 int\n",
    "var = np.array([1,2,3,4,5,6,7,8,9,10])\n",
    "print(\"data type:\",var.dtype)"
   ]
  },
  {
   "cell_type": "code",
   "execution_count": 72,
   "id": "d59b455d",
   "metadata": {},
   "outputs": [
    {
     "name": "stdout",
     "output_type": "stream",
     "text": [
      "data type: float64\n"
     ]
    }
   ],
   "source": [
    "#2 float\n",
    "var = np.array([1.1,2,2,3.2,4.2,5.2,6.2,7.2,8.2,9.2,10.2])\n",
    "print(\"data type:\",var.dtype)"
   ]
  },
  {
   "cell_type": "code",
   "execution_count": 73,
   "id": "7d7db1a6",
   "metadata": {},
   "outputs": [
    {
     "name": "stdout",
     "output_type": "stream",
     "text": [
      "data type: <U1\n"
     ]
    }
   ],
   "source": [
    "#3 string\n",
    "var = np.array([\"a\",\"b\",\"c\",\"d\",\"e\",\"f\",\"g\"])\n",
    "print(\"data type:\",var.dtype)"
   ]
  },
  {
   "cell_type": "code",
   "execution_count": 74,
   "id": "0908933c",
   "metadata": {},
   "outputs": [
    {
     "name": "stdout",
     "output_type": "stream",
     "text": [
      "data type: <U11\n"
     ]
    }
   ],
   "source": [
    "#4 int & string\n",
    "var = np.array([\"a\",\"b\",\"c\",\"d\",\"e\",\"f\",\"g\",1,2,3,4,5,6,7,8,9,10])\n",
    "print(\"data type:\",var.dtype)"
   ]
  },
  {
   "cell_type": "code",
   "execution_count": 76,
   "id": "1084b8f3",
   "metadata": {},
   "outputs": [
    {
     "name": "stdout",
     "output_type": "stream",
     "text": [
      "data type: int8\n"
     ]
    }
   ],
   "source": [
    "# How Change Data type\n",
    "\n",
    "var = np.array([1,2,3,4,5,6,7,8,9,10],dtype = np.int8)\n",
    "print(\"data type:\",var.dtype)"
   ]
  },
  {
   "cell_type": "code",
   "execution_count": 77,
   "id": "3c97a66b",
   "metadata": {},
   "outputs": [
    {
     "name": "stdout",
     "output_type": "stream",
     "text": [
      "data type: float32\n"
     ]
    }
   ],
   "source": [
    "var = np.array([1,2,3,4],dtype = \"f\")\n",
    "print(\"data type:\",var.dtype)"
   ]
  },
  {
   "cell_type": "code",
   "execution_count": 78,
   "id": "2d868ada",
   "metadata": {},
   "outputs": [
    {
     "name": "stdout",
     "output_type": "stream",
     "text": [
      "data type: int32\n",
      "data type: float32\n",
      "[1 2 3 4]\n",
      "[1. 2. 3. 4.]\n"
     ]
    }
   ],
   "source": [
    "# How to Use data type as a Function\n",
    "\n",
    "var = np.array([1,2,3,4])\n",
    "x = np.float32(x)\n",
    "print(\"data type:\",var.dtype)\n",
    "print(\"data type:\",x.dtype)\n",
    "\n",
    "print(var)\n",
    "print(x)\n"
   ]
  },
  {
   "cell_type": "code",
   "execution_count": 79,
   "id": "2c69e8e9",
   "metadata": {},
   "outputs": [
    {
     "name": "stdout",
     "output_type": "stream",
     "text": [
      "data type: int32\n",
      "data type: float32\n",
      "data type: int32\n",
      "[1 2 3 4]\n",
      "[1. 2. 3. 4.]\n",
      "[1 2 3 4]\n"
     ]
    }
   ],
   "source": [
    "\n",
    "var = np.array([1,2,3,4])\n",
    "x = np.float32(var)\n",
    "y = np.int_(x)\n",
    "print(\"data type:\",var.dtype)\n",
    "print(\"data type:\",x.dtype)\n",
    "print(\"data type:\",y.dtype)\n",
    "\n",
    "\n",
    "print(var)\n",
    "print(x)\n",
    "print(y)"
   ]
  },
  {
   "cell_type": "code",
   "execution_count": 81,
   "id": "70ec2225",
   "metadata": {},
   "outputs": [
    {
     "name": "stdout",
     "output_type": "stream",
     "text": [
      "data type: int32\n",
      "data type: float64\n",
      "[1 2 3 4]\n",
      "[1. 2. 3. 4.]\n"
     ]
    }
   ],
   "source": [
    "# Change data type Using astype function\n",
    "a= np.array([1,2,3,4])\n",
    "b= a.astype (float)\n",
    "print(\"data type:\",a.dtype)\n",
    "print(\"data type:\",b.dtype)\n",
    "\n",
    "print(a)\n",
    "print(b)"
   ]
  },
  {
   "cell_type": "markdown",
   "id": "d97e44c0",
   "metadata": {},
   "source": [
    "# Arithmatic Opratins"
   ]
  },
  {
   "cell_type": "code",
   "execution_count": 88,
   "id": "569d0299",
   "metadata": {},
   "outputs": [
    {
     "name": "stdout",
     "output_type": "stream",
     "text": [
      "[4 5 6 7]\n"
     ]
    }
   ],
   "source": [
    "# Arithmatic Opratins\n",
    "# 1D\n",
    "# 1. Adddition\n",
    "\n",
    "var = np.array([1,2,3,4])\n",
    "varadd = var + 3\n",
    "print(varadd)"
   ]
  },
  {
   "cell_type": "code",
   "execution_count": 96,
   "id": "cb7bb79a",
   "metadata": {},
   "outputs": [
    {
     "name": "stdout",
     "output_type": "stream",
     "text": [
      "[2 4 6 8]\n"
     ]
    }
   ],
   "source": [
    "# Addition Using np.add(a,b) function\n",
    "\n",
    "var1 = np.array([1,2,3,4])\n",
    "var2 = np.array([1,2,3,4])\n",
    "varadd = np.add(var1,var2)\n",
    "print(varadd)"
   ]
  },
  {
   "cell_type": "code",
   "execution_count": 97,
   "id": "d20a563b",
   "metadata": {},
   "outputs": [
    {
     "name": "stdout",
     "output_type": "stream",
     "text": [
      "[4 5 6 7]\n"
     ]
    }
   ],
   "source": [
    "# Addition Using np.add(a,b) function\n",
    "\n",
    "var1 = np.array([1,2,3,4])\n",
    "var2 = np.array([1,2,3,4])\n",
    "varadd = np.add(var1,3)\n",
    "print(varadd)"
   ]
  },
  {
   "cell_type": "code",
   "execution_count": 89,
   "id": "faed32ec",
   "metadata": {},
   "outputs": [
    {
     "name": "stdout",
     "output_type": "stream",
     "text": [
      "[2 4 6 8]\n"
     ]
    }
   ],
   "source": [
    "var1 = np.array([1,2,3,4])\n",
    "var2 = np.array([1,2,3,4])\n",
    "varadd = var1+var2\n",
    "print(varadd)"
   ]
  },
  {
   "cell_type": "code",
   "execution_count": 90,
   "id": "6252667d",
   "metadata": {},
   "outputs": [
    {
     "name": "stdout",
     "output_type": "stream",
     "text": [
      "[0 0 0 0]\n"
     ]
    }
   ],
   "source": [
    "var1 = np.array([1,2,3,4])\n",
    "var2 = np.array([1,2,3,4])\n",
    "varadd = var1-var2\n",
    "print(varadd)"
   ]
  },
  {
   "cell_type": "code",
   "execution_count": 91,
   "id": "a5ba36ee",
   "metadata": {},
   "outputs": [
    {
     "name": "stdout",
     "output_type": "stream",
     "text": [
      "[ 1  4  9 16]\n"
     ]
    }
   ],
   "source": [
    "var1 = np.array([1,2,3,4])\n",
    "var2 = np.array([1,2,3,4])\n",
    "varadd = var1*var2\n",
    "print(varadd)"
   ]
  },
  {
   "cell_type": "code",
   "execution_count": 92,
   "id": "a4721235",
   "metadata": {},
   "outputs": [
    {
     "name": "stdout",
     "output_type": "stream",
     "text": [
      "[1. 1. 1. 1.]\n"
     ]
    }
   ],
   "source": [
    "var1 = np.array([1,2,3,4])\n",
    "var2 = np.array([1,2,3,4])\n",
    "varadd = var1/var2\n",
    "print(varadd)"
   ]
  },
  {
   "cell_type": "code",
   "execution_count": 93,
   "id": "5a45b45c",
   "metadata": {},
   "outputs": [
    {
     "name": "stdout",
     "output_type": "stream",
     "text": [
      "[0 0 0 0]\n"
     ]
    }
   ],
   "source": [
    "var1 = np.array([1,2,3,4])\n",
    "var2 = np.array([1,2,3,4])\n",
    "varadd = var1%var2\n",
    "print(varadd)"
   ]
  },
  {
   "cell_type": "code",
   "execution_count": 94,
   "id": "1b4ba378",
   "metadata": {},
   "outputs": [
    {
     "name": "stdout",
     "output_type": "stream",
     "text": [
      "[  1   4  27 256]\n"
     ]
    }
   ],
   "source": [
    "var1 = np.array([1,2,3,4])\n",
    "var2 = np.array([1,2,3,4])\n",
    "varadd = var1**var2\n",
    "print(varadd)"
   ]
  },
  {
   "cell_type": "code",
   "execution_count": 95,
   "id": "f68dbdf4",
   "metadata": {},
   "outputs": [
    {
     "name": "stdout",
     "output_type": "stream",
     "text": [
      "[1 1 1 1]\n"
     ]
    }
   ],
   "source": [
    "var1 = np.array([1,2,3,4])\n",
    "var2 = np.array([1,2,3,4])\n",
    "varadd = var1//var2\n",
    "print(varadd)"
   ]
  },
  {
   "cell_type": "code",
   "execution_count": 99,
   "id": "05aa0b5c",
   "metadata": {},
   "outputs": [
    {
     "name": "stdout",
     "output_type": "stream",
     "text": [
      "[[1 2 3 4]\n",
      " [1 2 3 4]]\n",
      "\n",
      "[[1 2 3 4]\n",
      " [1 2 3 4]]\n",
      "\n",
      "[[2 4 6 8]\n",
      " [2 4 6 8]]\n"
     ]
    }
   ],
   "source": [
    "# 2D array\n",
    "\n",
    "# Addition \n",
    "\n",
    "var1 = np.array([[1,2,3,4],[1,2,3,4]])\n",
    "var2 = np.array([[1,2,3,4],[1,2,3,4]])\n",
    "print(var1)\n",
    "print()\n",
    "print(var2)\n",
    "print()\n",
    "varadd = var1+var2\n",
    "print(varadd)"
   ]
  },
  {
   "cell_type": "code",
   "execution_count": 100,
   "id": "5811020f",
   "metadata": {},
   "outputs": [
    {
     "name": "stdout",
     "output_type": "stream",
     "text": [
      "[[1 2 3 4]\n",
      " [1 2 3 4]]\n",
      "\n",
      "[[1 2 3 4]\n",
      " [1 2 3 4]]\n",
      "\n",
      "[[2 4 6 8]\n",
      " [2 4 6 8]]\n"
     ]
    }
   ],
   "source": [
    "# 2D array\n",
    "\n",
    "# Addition usinf np.add(a,b) function\n",
    "\n",
    "var1 = np.array([[1,2,3,4],[1,2,3,4]])\n",
    "var2 = np.array([[1,2,3,4],[1,2,3,4]])\n",
    "print(var1)\n",
    "print()\n",
    "print(var2)\n",
    "print()\n",
    "varadd = np.add(var1,var2)\n",
    "print(varadd"
   ]
  },
  {
   "cell_type": "code",
   "execution_count": 101,
   "id": "ad0bd041",
   "metadata": {},
   "outputs": [
    {
     "name": "stdout",
     "output_type": "stream",
     "text": [
      "[[1 2 3 4]\n",
      " [1 2 3 4]]\n",
      "\n",
      "[[1 2 3 4]\n",
      " [1 2 3 4]]\n",
      "\n",
      "[[ 1  4  9 16]\n",
      " [ 1  4  9 16]]\n"
     ]
    }
   ],
   "source": [
    "\n",
    "var1 = np.array([[1,2,3,4],[1,2,3,4]])\n",
    "var2 = np.array([[1,2,3,4],[1,2,3,4]])\n",
    "print(var1)\n",
    "print()\n",
    "print(var2)\n",
    "print()\n",
    "varadd = var1*var2\n",
    "print(varadd)"
   ]
  },
  {
   "cell_type": "code",
   "execution_count": 102,
   "id": "969d64a0",
   "metadata": {},
   "outputs": [
    {
     "name": "stdout",
     "output_type": "stream",
     "text": [
      "[[1 2 3 4]\n",
      " [1 2 3 4]]\n",
      "\n",
      "[[1 2 3 4]\n",
      " [1 2 3 4]]\n",
      "\n",
      "[[0 0 0 0]\n",
      " [0 0 0 0]]\n"
     ]
    }
   ],
   "source": [
    "# 2D array\n",
    "\n",
    "\n",
    "var1 = np.array([[1,2,3,4],[1,2,3,4]])\n",
    "var2 = np.array([[1,2,3,4],[1,2,3,4]])\n",
    "print(var1)\n",
    "print()\n",
    "print(var2)\n",
    "print()\n",
    "varadd = var1-var2\n",
    "print(varadd)"
   ]
  },
  {
   "cell_type": "code",
   "execution_count": 103,
   "id": "41b3f91c",
   "metadata": {},
   "outputs": [
    {
     "name": "stdout",
     "output_type": "stream",
     "text": [
      "[[1 2 3 4]\n",
      " [1 2 3 4]]\n",
      "\n",
      "[[1 2 3 4]\n",
      " [1 2 3 4]]\n",
      "\n",
      "[[1. 1. 1. 1.]\n",
      " [1. 1. 1. 1.]]\n"
     ]
    }
   ],
   "source": [
    "var1 = np.array([[1,2,3,4],[1,2,3,4]])\n",
    "var2 = np.array([[1,2,3,4],[1,2,3,4]])\n",
    "print(var1)\n",
    "print()\n",
    "print(var2)\n",
    "print()\n",
    "varadd = var1/var2\n",
    "print(varadd)"
   ]
  },
  {
   "cell_type": "code",
   "execution_count": 104,
   "id": "a6d7df6b",
   "metadata": {},
   "outputs": [
    {
     "name": "stdout",
     "output_type": "stream",
     "text": [
      "[[1 2 3 4]\n",
      " [1 2 3 4]]\n",
      "\n",
      "[[1 2 3 4]\n",
      " [1 2 3 4]]\n",
      "\n",
      "[[  1   4  27 256]\n",
      " [  1   4  27 256]]\n"
     ]
    }
   ],
   "source": [
    "var1 = np.array([[1,2,3,4],[1,2,3,4]])\n",
    "var2 = np.array([[1,2,3,4],[1,2,3,4]])\n",
    "print(var1)\n",
    "print()\n",
    "print(var2)\n",
    "print()\n",
    "varadd = var1**var2\n",
    "print(varadd)"
   ]
  },
  {
   "cell_type": "markdown",
   "id": "034a59e1",
   "metadata": {},
   "source": [
    "# Arithmatic functon "
   ]
  },
  {
   "cell_type": "code",
   "execution_count": 105,
   "id": "cee90a7b",
   "metadata": {},
   "outputs": [
    {
     "name": "stdout",
     "output_type": "stream",
     "text": [
      "min : 1\n",
      "max : 8\n"
     ]
    }
   ],
   "source": [
    "# Arithmatic functon \n",
    "# 1. min & max\n",
    "\n",
    "var = np.array([1,2,3,4,5,8,5,3])\n",
    "\n",
    "print(\"min :\",np.min(var))\n",
    "print(\"max :\",np.max(var))"
   ]
  },
  {
   "cell_type": "code",
   "execution_count": 106,
   "id": "94f6eae3",
   "metadata": {},
   "outputs": [
    {
     "name": "stdout",
     "output_type": "stream",
     "text": [
      "min : 0\n",
      "max : 5\n"
     ]
    }
   ],
   "source": [
    "# 2. argmin & argmax : to find index position of array\n",
    "\n",
    "var = np.array([1,2,3,4,5,8,5,3])\n",
    "\n",
    "print(\"min :\",np.argmin(var))\n",
    "print(\"max :\",np.argmax(var))"
   ]
  },
  {
   "cell_type": "code",
   "execution_count": 113,
   "id": "738ac0f7",
   "metadata": {},
   "outputs": [
    {
     "name": "stdout",
     "output_type": "stream",
     "text": [
      "[1 5]\n"
     ]
    }
   ],
   "source": [
    "# 3. To find  axis\n",
    "\n",
    "var = np.array([[2,1,3],[9,5,6]])\n",
    "\n",
    "print(np.min(var,axis=1))\n"
   ]
  },
  {
   "cell_type": "code",
   "execution_count": 114,
   "id": "f99180cf",
   "metadata": {},
   "outputs": [
    {
     "name": "stdout",
     "output_type": "stream",
     "text": [
      "[9 5 6]\n"
     ]
    }
   ],
   "source": [
    "var = np.array([[2,1,3],[9,5,6]])\n",
    "\n",
    "print(np.max(var,axis=0))\n"
   ]
  },
  {
   "cell_type": "code",
   "execution_count": 115,
   "id": "0560bbe2",
   "metadata": {},
   "outputs": [
    {
     "name": "stdout",
     "output_type": "stream",
     "text": [
      "min : 0\n",
      "max : 5\n",
      "sqrt: [1.         1.41421356 1.73205081 2.         2.23606798 2.82842712\n",
      " 2.23606798 1.73205081]\n"
     ]
    }
   ],
   "source": [
    "# 3. sqrt\n",
    "\n",
    "\n",
    "var = np.array([1,2,3,4,5,8,5,3])\n",
    "\n",
    "print(\"min :\",np.argmin(var))\n",
    "print(\"max :\",np.argmax(var))\n",
    "print(\"sqrt:\",np.sqrt(var))"
   ]
  },
  {
   "cell_type": "code",
   "execution_count": 117,
   "id": "79291f02",
   "metadata": {},
   "outputs": [
    {
     "name": "stdout",
     "output_type": "stream",
     "text": [
      "sin: [0.84147098 0.90929743 0.14112001]\n",
      "cos: [ 0.54030231 -0.41614684 -0.9899925 ]\n"
     ]
    }
   ],
   "source": [
    "# 4. Sin & cos\n",
    "\n",
    "\n",
    "var = np.array([1,2,3])\n",
    "\n",
    "print(\"sin:\",np.sin(var))\n",
    "print(\"cos:\",np.cos(var))"
   ]
  },
  {
   "cell_type": "code",
   "execution_count": 119,
   "id": "054e7b10",
   "metadata": {},
   "outputs": [
    {
     "name": "stdout",
     "output_type": "stream",
     "text": [
      "[ 1  3  6 10]\n"
     ]
    }
   ],
   "source": [
    "# 5. cumsum\n",
    "\n",
    "var = np.array([1,2,3,4])\n",
    "print(np.cumsum(var))"
   ]
  },
  {
   "cell_type": "markdown",
   "id": "01439ab8",
   "metadata": {},
   "source": [
    "# Shape & Reshape"
   ]
  },
  {
   "cell_type": "code",
   "execution_count": 120,
   "id": "6d98569c",
   "metadata": {},
   "outputs": [
    {
     "name": "stdout",
     "output_type": "stream",
     "text": [
      "[[1 2 3 4]\n",
      " [1 2 3 4]]\n",
      "(2, 4)\n"
     ]
    }
   ],
   "source": [
    "# Shape & Reshape\n",
    "\n",
    "var = np.array([[1,2,3,4],[1,2,3,4]])\n",
    "print(var)\n",
    "print(var.shape)"
   ]
  },
  {
   "cell_type": "code",
   "execution_count": 121,
   "id": "5e8dd6e3",
   "metadata": {},
   "outputs": [
    {
     "name": "stdout",
     "output_type": "stream",
     "text": [
      "[[[[1 2 3 4]]]]\n",
      "4\n",
      "(1, 1, 1, 4)\n"
     ]
    }
   ],
   "source": [
    "var1 = np.array([1,2,3,4],ndmin=4)\n",
    "print(var1)\n",
    "print(var1.ndim)\n",
    "print(var1.shape)"
   ]
  },
  {
   "cell_type": "code",
   "execution_count": 123,
   "id": "89936d11",
   "metadata": {},
   "outputs": [
    {
     "name": "stdout",
     "output_type": "stream",
     "text": [
      "[1 2 3 4 5 6]\n",
      "1\n",
      "\n",
      "[[1 2]\n",
      " [3 4]\n",
      " [5 6]]\n",
      "2\n"
     ]
    }
   ],
   "source": [
    "# Reshape\n",
    "\n",
    "var = np.array([1,2,3,4,5,6])\n",
    "print(var)\n",
    "print(var.ndim)\n",
    "print()\n",
    "x = var.reshape(3,2)\n",
    "print(x)\n",
    "print(x.ndim)"
   ]
  },
  {
   "cell_type": "code",
   "execution_count": 128,
   "id": "a525dea7",
   "metadata": {},
   "outputs": [
    {
     "name": "stdout",
     "output_type": "stream",
     "text": [
      "[[[ 1  2]\n",
      "  [ 3  4]\n",
      "  [ 5  6]]\n",
      "\n",
      " [[ 7  8]\n",
      "  [ 9 10]\n",
      "  [11 12]]]\n"
     ]
    }
   ],
   "source": [
    "\n",
    "var = np.array([1,2,3,4,5,6,7,8,9,10,11,12])\n",
    "\n",
    "x = var.reshape(2,3,2)\n",
    "print(x)\n"
   ]
  },
  {
   "cell_type": "code",
   "execution_count": 130,
   "id": "16733e29",
   "metadata": {},
   "outputs": [
    {
     "name": "stdout",
     "output_type": "stream",
     "text": [
      "[[[ 1  2]\n",
      "  [ 3  4]\n",
      "  [ 5  6]]\n",
      "\n",
      " [[ 7  8]\n",
      "  [ 9 10]\n",
      "  [11 12]]]\n",
      "[ 1  2  3  4  5  6  7  8  9 10 11 12]\n"
     ]
    }
   ],
   "source": [
    "# 3D TO 1D\n",
    "\n",
    "\n",
    "var = np.array([1,2,3,4,5,6,7,8,9,10,11,12])\n",
    "\n",
    "x = var.reshape(2,3,2)\n",
    "print(x)\n",
    "\n",
    "one = x.reshape(-1)\n",
    "print(one)\n",
    "\n"
   ]
  },
  {
   "cell_type": "code",
   "execution_count": 134,
   "id": "59410701",
   "metadata": {},
   "outputs": [
    {
     "name": "stdout",
     "output_type": "stream",
     "text": [
      "(3,)\n",
      "[1 2 3]\n",
      "\n",
      "(3, 1)\n",
      "[[1]\n",
      " [2]\n",
      " [3]]\n",
      "[[2 3 4]\n",
      " [3 4 5]\n",
      " [4 5 6]]\n"
     ]
    }
   ],
   "source": [
    "# Broadcasting array\n",
    "\n",
    "var1 = np.array ([1,2,3])\n",
    "print(var1.shape)\n",
    "print(var1)\n",
    "\n",
    "print()\n",
    "\n",
    "\n",
    "var2 = np.array([[1],[2],[3]])\n",
    "print(var2.shape)\n",
    "print(var2)\n",
    "\n",
    "print(var1+var2)"
   ]
  },
  {
   "cell_type": "code",
   "execution_count": 136,
   "id": "1cecdc14",
   "metadata": {},
   "outputs": [
    {
     "name": "stdout",
     "output_type": "stream",
     "text": [
      "(2, 1)\n",
      "(2, 3)\n",
      "[[2 3 4]\n",
      " [3 4 5]]\n"
     ]
    }
   ],
   "source": [
    "var1 = np.array ([[1],[2]])\n",
    "print(var1.shape)\n",
    "\n",
    "\n",
    "\n",
    "var2 = np.array([[1,2,3],[1,2,3]])\n",
    "print(var2.shape)\n",
    "\n",
    "print(var1+var2)"
   ]
  },
  {
   "cell_type": "markdown",
   "id": "ec79641b",
   "metadata": {},
   "source": [
    "# Indexing"
   ]
  },
  {
   "cell_type": "code",
   "execution_count": 4,
   "id": "f55677b0",
   "metadata": {},
   "outputs": [
    {
     "name": "stdout",
     "output_type": "stream",
     "text": [
      "7\n",
      "\n",
      "8\n"
     ]
    }
   ],
   "source": [
    "# Indexing\n",
    "# 1D:\n",
    "\n",
    "var = np.array ([9,8,7,6])\n",
    "# Positive \n",
    "print(var[2]) \n",
    "print()\n",
    "# Negative\n",
    "print(var[-3])"
   ]
  },
  {
   "cell_type": "code",
   "execution_count": 9,
   "id": "8d95b989",
   "metadata": {},
   "outputs": [
    {
     "name": "stdout",
     "output_type": "stream",
     "text": [
      "[[9 8 7]\n",
      " [4 5 6]]\n",
      "2\n",
      "\n",
      "7\n",
      "\n",
      "6\n"
     ]
    }
   ],
   "source": [
    "# 2D:\n",
    "\n",
    "var =  np.array ([[9,8,7],[4,5,6]])\n",
    "print(var)\n",
    "print(var.ndim)\n",
    "print()\n",
    "\n",
    "print(var[0,2])\n",
    "print()\n",
    "\n",
    "print(var[1,2])\n",
    "\n"
   ]
  },
  {
   "cell_type": "code",
   "execution_count": 14,
   "id": "328a7415",
   "metadata": {},
   "outputs": [
    {
     "name": "stdout",
     "output_type": "stream",
     "text": [
      "[[[1 2]\n",
      "  [1 2]]]\n",
      "3\n",
      "\n",
      "2\n",
      "\n",
      "1\n"
     ]
    }
   ],
   "source": [
    "# 3D:\n",
    "\n",
    "var =  np.array ([[[1,2],[1,2]]])\n",
    "print(var)\n",
    "print(var.ndim)\n",
    "print()\n",
    "\n",
    "print(var[0,1,1])\n",
    "print()\n",
    "\n",
    "print(var[0,0,0])\n"
   ]
  },
  {
   "cell_type": "markdown",
   "id": "4e1b7299",
   "metadata": {},
   "source": [
    "# Slicing"
   ]
  },
  {
   "cell_type": "code",
   "execution_count": 23,
   "id": "6e9eeba7",
   "metadata": {},
   "outputs": [
    {
     "name": "stdout",
     "output_type": "stream",
     "text": [
      "[9 8 7 6 5 4 3]\n",
      "\n",
      "8 to 5 : [8 7 6 5]\n",
      "8 to end : [8 7 6 5 4 3]\n",
      "Start to 5 : [9 8 7 6 5]\n",
      "Stop : [9 7 5 3]\n",
      "stop : [8 6]\n",
      "stop : [8 6 4]\n"
     ]
    }
   ],
   "source": [
    "# Slicing\n",
    "# 1D:\n",
    "\n",
    "var = np.array([9,8,7,6,5,4,3])\n",
    "print(var)\n",
    "print()\n",
    "\n",
    "print(\"8 to 5 :\",var[1:5])\n",
    "\n",
    "print(\"8 to end :\",var[1:])\n",
    "\n",
    "print(\"Start to 5 :\",var[:5])\n",
    "\n",
    "print(\"Stop :\",var[::2])\n",
    "\n",
    "print(\"stop :\",var[1:5:2])\n",
    "\n",
    "print(\"stop :\",var[1:6:2])"
   ]
  },
  {
   "cell_type": "code",
   "execution_count": 32,
   "id": "bd577535",
   "metadata": {},
   "outputs": [
    {
     "name": "stdout",
     "output_type": "stream",
     "text": [
      "[[ 1  2  3  4  5]\n",
      " [ 9  8  7  6  5]\n",
      " [11 12 13 14 15]]\n",
      "2\n",
      "\n",
      "8 to 5 : [8 7 6 5]\n",
      "12 to 15 : [12 13 14 15]\n",
      "2 to 5 : [2 3 4 5]\n"
     ]
    }
   ],
   "source": [
    "# 2D:\n",
    "\n",
    "var = np.array([[1,2,3,4,5],[9,8,7,6,5],[11,12,13,14,15]])\n",
    "print(var)\n",
    "print(var.ndim)\n",
    "print()\n",
    "\n",
    "print(\"8 to 5 :\", var[1,1:])\n",
    "print(\"12 to 15 :\",var[2,1:])\n",
    "print(\"2 to 5 :\",var[0,1:])\n"
   ]
  },
  {
   "cell_type": "markdown",
   "id": "f06a5b86",
   "metadata": {},
   "source": [
    "# Iterating"
   ]
  },
  {
   "cell_type": "code",
   "execution_count": 34,
   "id": "af7c6c42",
   "metadata": {},
   "outputs": [
    {
     "name": "stdout",
     "output_type": "stream",
     "text": [
      "[9 8 7 6 5 4]\n",
      "1\n",
      "\n",
      "9\n",
      "8\n",
      "7\n",
      "6\n",
      "5\n",
      "4\n"
     ]
    }
   ],
   "source": [
    "# Iterating\n",
    "# 1D:\n",
    "\n",
    "var = np.array([9,8,7,6,5,4])\n",
    "print(var)\n",
    "print(var.ndim)\n",
    "print()\n",
    "\n",
    "for i in var:\n",
    "    print(i)"
   ]
  },
  {
   "cell_type": "code",
   "execution_count": 35,
   "id": "3a76d25e",
   "metadata": {},
   "outputs": [
    {
     "name": "stdout",
     "output_type": "stream",
     "text": [
      "[[1 2 3 4]\n",
      " [1 2 3 4]]\n",
      "2\n",
      "\n",
      "[1 2 3 4]\n",
      "[1 2 3 4]\n",
      "\n",
      "1\n",
      "2\n",
      "3\n",
      "4\n",
      "1\n",
      "2\n",
      "3\n",
      "4\n"
     ]
    }
   ],
   "source": [
    "# 2D:\n",
    "\n",
    "var = np.array([[1,2,3,4],[1,2,3,4]])\n",
    "print(var)\n",
    "print(var.ndim)\n",
    "print()\n",
    "\n",
    "for j in var:\n",
    "    print(j)\n",
    "print()\n",
    "\n",
    "for k in var:\n",
    "    for l in k:\n",
    "        print(l)\n",
    "    "
   ]
  },
  {
   "cell_type": "code",
   "execution_count": 37,
   "id": "868cecaa",
   "metadata": {},
   "outputs": [
    {
     "name": "stdout",
     "output_type": "stream",
     "text": [
      "[[[1 2 3 4]\n",
      "  [1 2 3 4]]]\n",
      "3\n",
      "\n",
      "[[1 2 3 4]\n",
      " [1 2 3 4]]\n",
      "\n",
      "1\n",
      "2\n",
      "3\n",
      "4\n",
      "1\n",
      "2\n",
      "3\n",
      "4\n"
     ]
    }
   ],
   "source": [
    "# 3D:\n",
    "\n",
    "var = np.array([[[1,2,3,4],[1,2,3,4]]])\n",
    "print(var)\n",
    "print(var.ndim)\n",
    "print()\n",
    "\n",
    "for j in var:\n",
    "    print(j)\n",
    "print()\n",
    "\n",
    "for k in var:\n",
    "    for l in k:\n",
    "        for m in l:\n",
    "            print(m)\n",
    "            \n",
    "       \n",
    "    "
   ]
  },
  {
   "cell_type": "code",
   "execution_count": 39,
   "id": "cb1e64a5",
   "metadata": {},
   "outputs": [
    {
     "name": "stdout",
     "output_type": "stream",
     "text": [
      "[[[1 2 3 4]\n",
      "  [1 2 3 4]]]\n",
      "3\n",
      "\n",
      "1\n",
      "2\n",
      "3\n",
      "4\n",
      "1\n",
      "2\n",
      "3\n",
      "4\n"
     ]
    }
   ],
   "source": [
    "# Iterating using np.nditer function\n",
    "# 3D\n",
    "\n",
    "\n",
    "var = np.array([[[1,2,3,4],[1,2,3,4]]])\n",
    "print(var)\n",
    "print(var.ndim)\n",
    "print()\n",
    "\n",
    "for i in np.nditer(var):\n",
    "    print(i)\n",
    "            \n"
   ]
  },
  {
   "cell_type": "code",
   "execution_count": 43,
   "id": "a71b69ad",
   "metadata": {},
   "outputs": [
    {
     "name": "stdout",
     "output_type": "stream",
     "text": [
      "[[[1 2 3 4]\n",
      "  [9 8 7 6]]]\n",
      "3\n",
      "\n",
      "b'1'\n",
      "b'2'\n",
      "b'3'\n",
      "b'4'\n",
      "b'9'\n",
      "b'8'\n",
      "b'7'\n",
      "b'6'\n"
     ]
    }
   ],
   "source": [
    "# How to change data type in Iterating\n",
    "# 3D: int to String\n",
    "\n",
    "var = np.array([[[1,2,3,4],[9,8,7,6]]])\n",
    "print(var)\n",
    "print(var.ndim)\n",
    "print()\n",
    "\n",
    "for i in np.nditer(var,flags=['buffered'],op_dtypes=[\"S\"]):\n",
    "    print(i)\n",
    "            "
   ]
  },
  {
   "cell_type": "code",
   "execution_count": 46,
   "id": "d32c1acb",
   "metadata": {},
   "outputs": [
    {
     "name": "stdout",
     "output_type": "stream",
     "text": [
      "[[[1 2 3 4]\n",
      "  [9 8 7 6]]]\n",
      "3\n",
      "\n",
      "1\n",
      "2\n",
      "3\n",
      "4\n",
      "9\n",
      "8\n",
      "7\n",
      "6\n"
     ]
    }
   ],
   "source": [
    "var = np.array([[[1,2,3,4],[9,8,7,6]]])\n",
    "print(var)\n",
    "print(var.ndim)\n",
    "print()\n",
    "\n",
    "for i in np.nditer(var,flags=['buffered'],op_dtypes=[\"i\"]):\n",
    "    print(i)"
   ]
  },
  {
   "cell_type": "code",
   "execution_count": 47,
   "id": "ad6a53fb",
   "metadata": {},
   "outputs": [
    {
     "name": "stdout",
     "output_type": "stream",
     "text": [
      "[[[1 2 3 4]\n",
      "  [9 8 7 6]]]\n",
      "3\n",
      "\n",
      "(0, 0, 0) 1\n",
      "(0, 0, 1) 2\n",
      "(0, 0, 2) 3\n",
      "(0, 0, 3) 4\n",
      "(0, 1, 0) 9\n",
      "(0, 1, 1) 8\n",
      "(0, 1, 2) 7\n",
      "(0, 1, 3) 6\n"
     ]
    }
   ],
   "source": [
    "# Iterating With Indexing using np.ndenumerate function\n",
    "\n",
    "var = np.array([[[1,2,3,4],[9,8,7,6]]])\n",
    "print(var)\n",
    "print(var.ndim)\n",
    "print()\n",
    "\n",
    "for i,d in np.ndenumerate(var):\n",
    "    print(i,d)"
   ]
  },
  {
   "cell_type": "markdown",
   "id": "7f0aaede",
   "metadata": {},
   "source": [
    "# copy vs view"
   ]
  },
  {
   "cell_type": "code",
   "execution_count": 48,
   "id": "22bc39bc",
   "metadata": {},
   "outputs": [
    {
     "name": "stdout",
     "output_type": "stream",
     "text": [
      "[1 2 3 4]\n",
      "[1 2 3 4]\n"
     ]
    }
   ],
   "source": [
    "# copy vs view\n",
    "# copy\n",
    "\n",
    "var = np.array([1,2,3,4])\n",
    "cop = var.copy()\n",
    "print(var)\n",
    "print(cop)"
   ]
  },
  {
   "cell_type": "code",
   "execution_count": 51,
   "id": "ae9b5486",
   "metadata": {},
   "outputs": [
    {
     "name": "stdout",
     "output_type": "stream",
     "text": [
      "[1 2 3 4]\n",
      "[1 2 3 4]\n"
     ]
    }
   ],
   "source": [
    "# view\n",
    "\n",
    "x = np.array([1,2,3,4])\n",
    "vi = x.view()\n",
    "print(x)\n",
    "print(vi)"
   ]
  },
  {
   "cell_type": "code",
   "execution_count": 50,
   "id": "3cb569ef",
   "metadata": {},
   "outputs": [
    {
     "name": "stdout",
     "output_type": "stream",
     "text": [
      "[ 1 12  3  4]\n",
      "[1 2 3 4]\n"
     ]
    }
   ],
   "source": [
    "# copy:values not changed \n",
    "\n",
    "var = np.array([1,2,3,4])\n",
    "cop = var.copy()\n",
    "var[1]=12\n",
    "print(var)\n",
    "print(cop)"
   ]
  },
  {
   "cell_type": "code",
   "execution_count": 52,
   "id": "9644748a",
   "metadata": {},
   "outputs": [
    {
     "name": "stdout",
     "output_type": "stream",
     "text": [
      "[ 1 12  3  4]\n",
      "[ 1 12  3  4]\n"
     ]
    }
   ],
   "source": [
    "# view: changed values\n",
    "\n",
    "x = np.array([1,2,3,4])\n",
    "vi = x.view()\n",
    "x[1]=12\n",
    "print(x)\n",
    "print(vi)"
   ]
  },
  {
   "cell_type": "markdown",
   "id": "e345373b",
   "metadata": {},
   "source": [
    "# Join and Split "
   ]
  },
  {
   "cell_type": "code",
   "execution_count": 54,
   "id": "4f1e1c03",
   "metadata": {},
   "outputs": [
    {
     "name": "stdout",
     "output_type": "stream",
     "text": [
      "[1 2 3 4 9 8 7 6]\n"
     ]
    }
   ],
   "source": [
    "# Join and Split \n",
    "# 1D\n",
    "\n",
    "x = np.array([1,2,3,4])\n",
    "y = np.array([9,8,7,6])\n",
    "z = np.concatenate((x,y))\n",
    "print(z)"
   ]
  },
  {
   "cell_type": "code",
   "execution_count": 55,
   "id": "db34ece1",
   "metadata": {},
   "outputs": [
    {
     "name": "stdout",
     "output_type": "stream",
     "text": [
      "[[1 2]\n",
      " [3 4]\n",
      " [9 8]\n",
      " [7 6]]\n"
     ]
    }
   ],
   "source": [
    "# 2D\n",
    "\n",
    "x = np.array([[1,2],[3,4]])\n",
    "y = np.array([[9,8],[7,6]])\n",
    "z = np.concatenate((x,y),axis=0)\n",
    "print(z)\n"
   ]
  },
  {
   "cell_type": "code",
   "execution_count": 56,
   "id": "115d5b1e",
   "metadata": {},
   "outputs": [
    {
     "name": "stdout",
     "output_type": "stream",
     "text": [
      "[[1 2 9 8]\n",
      " [3 4 7 6]]\n"
     ]
    }
   ],
   "source": [
    "x = np.array([[1,2],[3,4]])\n",
    "y = np.array([[9,8],[7,6]])\n",
    "z = np.concatenate((x,y),axis=1)\n",
    "print(z)\n"
   ]
  },
  {
   "cell_type": "code",
   "execution_count": 57,
   "id": "beca8a47",
   "metadata": {},
   "outputs": [
    {
     "name": "stdout",
     "output_type": "stream",
     "text": [
      "[[1 9]\n",
      " [2 8]\n",
      " [3 7]\n",
      " [4 6]]\n"
     ]
    }
   ],
   "source": [
    "x = np.array([1,2,3,4])\n",
    "y = np.array([9,8,7,6])\n",
    "z = np.stack((x,y),axis=1)\n",
    "print(z)"
   ]
  },
  {
   "cell_type": "code",
   "execution_count": 58,
   "id": "301b30df",
   "metadata": {},
   "outputs": [
    {
     "name": "stdout",
     "output_type": "stream",
     "text": [
      "[[[1 2]\n",
      "  [3 4]]\n",
      "\n",
      " [[9 8]\n",
      "  [7 6]]]\n"
     ]
    }
   ],
   "source": [
    "x = np.array([[1,2],[3,4]])\n",
    "y = np.array([[9,8],[7,6]])\n",
    "z = np.stack((x,y),axis=0)\n",
    "print(z)\n"
   ]
  },
  {
   "cell_type": "code",
   "execution_count": 59,
   "id": "2a6e0d83",
   "metadata": {},
   "outputs": [
    {
     "name": "stdout",
     "output_type": "stream",
     "text": [
      "[1 2 3 4 9 8 7 6]\n"
     ]
    }
   ],
   "source": [
    "x = np.array([1,2,3,4])\n",
    "y = np.array([9,8,7,6])\n",
    "z = np.hstack((x,y)) #row\n",
    "print(z)"
   ]
  },
  {
   "cell_type": "code",
   "execution_count": 60,
   "id": "96129932",
   "metadata": {},
   "outputs": [
    {
     "name": "stdout",
     "output_type": "stream",
     "text": [
      "[[1 2 3 4]\n",
      " [9 8 7 6]]\n"
     ]
    }
   ],
   "source": [
    "x = np.array([1,2,3,4])\n",
    "y = np.array([9,8,7,6])\n",
    "z = np.vstack((x,y))  #column\n",
    "print(z)"
   ]
  },
  {
   "cell_type": "code",
   "execution_count": 61,
   "id": "d47b1906",
   "metadata": {},
   "outputs": [
    {
     "name": "stdout",
     "output_type": "stream",
     "text": [
      "[[[1 9]\n",
      "  [2 8]\n",
      "  [3 7]\n",
      "  [4 6]]]\n"
     ]
    }
   ],
   "source": [
    "x = np.array([1,2,3,4])\n",
    "y = np.array([9,8,7,6])\n",
    "z = np.dstack((x,y)) #hight\n",
    "print(z)"
   ]
  },
  {
   "cell_type": "code",
   "execution_count": 66,
   "id": "e65cf9bc",
   "metadata": {},
   "outputs": [
    {
     "name": "stdout",
     "output_type": "stream",
     "text": [
      "[1 2 3 4 5 6]\n",
      "[array([1, 2]), array([3, 4]), array([5, 6])]\n",
      "[1 2]\n",
      "[3 4]\n",
      "[5 6]\n"
     ]
    }
   ],
   "source": [
    "# Spilt \n",
    "# 1D\n",
    "var = np.array([1,2,3,4,5,6])\n",
    "\n",
    "print(var)\n",
    "\n",
    "ar = np.array_split(var,3)\n",
    "\n",
    "print(ar)\n",
    "\n",
    "\n",
    "print(ar[0])\n",
    "print(ar[1])\n",
    "print(ar[2])"
   ]
  },
  {
   "cell_type": "code",
   "execution_count": 69,
   "id": "a2bd361b",
   "metadata": {},
   "outputs": [
    {
     "name": "stdout",
     "output_type": "stream",
     "text": [
      "[[1 2]\n",
      " [3 4]\n",
      " [5 6]]\n",
      "[array([[1, 2]]), array([[3, 4]]), array([[5, 6]])]\n",
      "[array([[1],\n",
      "       [3],\n",
      "       [5]]), array([[2],\n",
      "       [4],\n",
      "       [6]]), array([], shape=(3, 0), dtype=int32)]\n",
      "[[1 2]]\n",
      "[[3 4]]\n",
      "[[5 6]]\n"
     ]
    }
   ],
   "source": [
    "# 2D\n",
    "var = np.array([[1,2],[3,4],[5,6]])\n",
    "\n",
    "print(var)\n",
    "\n",
    "ar = np.array_split(var,3)\n",
    "ar1 = np.array_split(var,3,axis=1)\n",
    "\n",
    "\n",
    "print(ar)\n",
    "print(ar1)\n",
    "\n",
    "\n",
    "print(ar[0])\n",
    "print(ar[1])\n",
    "print(ar[2])"
   ]
  },
  {
   "cell_type": "markdown",
   "id": "eb98678b",
   "metadata": {},
   "source": [
    "# Nupy Array Functions"
   ]
  },
  {
   "cell_type": "code",
   "execution_count": 4,
   "id": "4f00532d",
   "metadata": {},
   "outputs": [
    {
     "name": "stdout",
     "output_type": "stream",
     "text": [
      "(array([1, 4, 6], dtype=int64),)\n"
     ]
    }
   ],
   "source": [
    "# Nupy Array Functions\n",
    "# 1. where\n",
    "\n",
    "var = np.array([1,2,3,4,2,5,2,5,6,7])\n",
    "x = np.where(var==2)\n",
    "print(x)"
   ]
  },
  {
   "cell_type": "code",
   "execution_count": 5,
   "id": "30483594",
   "metadata": {},
   "outputs": [
    {
     "name": "stdout",
     "output_type": "stream",
     "text": [
      "(array([1, 3, 4, 6, 8], dtype=int64),)\n"
     ]
    }
   ],
   "source": [
    "\n",
    "var = np.array([1,2,3,4,2,5,2,5,6,7])\n",
    "x = np.where((var%2==0))\n",
    "print(x)"
   ]
  },
  {
   "cell_type": "code",
   "execution_count": 7,
   "id": "0a36d792",
   "metadata": {},
   "outputs": [
    {
     "name": "stdout",
     "output_type": "stream",
     "text": [
      "4\n"
     ]
    }
   ],
   "source": [
    "# 2. Searchsorted\n",
    "\n",
    "var = np.array([1,2,3,4,6,7,8])\n",
    "x = np.searchsorted(var,5)\n",
    "print(x)"
   ]
  },
  {
   "cell_type": "code",
   "execution_count": 8,
   "id": "5b302bbc",
   "metadata": {},
   "outputs": [
    {
     "name": "stdout",
     "output_type": "stream",
     "text": [
      "4\n"
     ]
    }
   ],
   "source": [
    "\n",
    "var = np.array([1,2,3,4,6,7,8])\n",
    "x = np.searchsorted(var,5,side=\"right\")\n",
    "print(x)"
   ]
  },
  {
   "cell_type": "code",
   "execution_count": 10,
   "id": "90a794e8",
   "metadata": {},
   "outputs": [
    {
     "name": "stdout",
     "output_type": "stream",
     "text": [
      "[4 6 7]\n"
     ]
    }
   ],
   "source": [
    "\n",
    "var = np.array([1,2,3,4,6,7,9])\n",
    "x = np.searchsorted(var,[5,8,10],side=\"right\")\n",
    "print(x)"
   ]
  },
  {
   "cell_type": "code",
   "execution_count": 11,
   "id": "60f09af4",
   "metadata": {},
   "outputs": [
    {
     "name": "stdout",
     "output_type": "stream",
     "text": [
      "[ 1  2  3  4  5  6  7 12 22 25]\n"
     ]
    }
   ],
   "source": [
    "# 3. Sort array\n",
    "\n",
    "var = np.array([1,2,3,4,12,5,22,25,6,7])\n",
    "x = np.sort(var)\n",
    "print(x)"
   ]
  },
  {
   "cell_type": "code",
   "execution_count": 12,
   "id": "c26976e4",
   "metadata": {},
   "outputs": [
    {
     "name": "stdout",
     "output_type": "stream",
     "text": [
      "[[ 1  2  3]\n",
      " [ 4  5 12]\n",
      " [ 6 22 25]]\n"
     ]
    }
   ],
   "source": [
    "var = np.array([[1,2,3],[4,12,5],[22,25,6]])\n",
    "x = np.sort(var)\n",
    "print(x)"
   ]
  },
  {
   "cell_type": "code",
   "execution_count": 13,
   "id": "83d74463",
   "metadata": {},
   "outputs": [
    {
     "name": "stdout",
     "output_type": "stream",
     "text": [
      "['a' 'l' 'n' 'y' 'z']\n"
     ]
    }
   ],
   "source": [
    "var = np.array([\"z\",\"l\",\"n\",\"a\",\"y\"])\n",
    "x = np.sort(var)\n",
    "print(x)"
   ]
  },
  {
   "cell_type": "code",
   "execution_count": 16,
   "id": "56f1b7c6",
   "metadata": {},
   "outputs": [
    {
     "name": "stdout",
     "output_type": "stream",
     "text": [
      "['n' 'k' 'h' 'l']\n"
     ]
    }
   ],
   "source": [
    "# Filter array\n",
    "\n",
    "var = np.array([\"n\",\"i\",\"k\",\"h\",\"i\",\"l\"])\n",
    "f = [True,False,True,True,False,True]\n",
    "new_a = var[f]\n",
    "print(new_a)\n"
   ]
  },
  {
   "cell_type": "code",
   "execution_count": 19,
   "id": "b56cb6f1",
   "metadata": {},
   "outputs": [
    {
     "name": "stdout",
     "output_type": "stream",
     "text": [
      "[4 8 6 7 3 1 2]\n"
     ]
    }
   ],
   "source": [
    "# Shuffle\n",
    "\n",
    "var = np.array([1,2,3,4,6,7,8])\n",
    "np.random.shuffle(var)\n",
    "print(var)\n"
   ]
  },
  {
   "cell_type": "code",
   "execution_count": 20,
   "id": "b6810d2b",
   "metadata": {},
   "outputs": [
    {
     "name": "stdout",
     "output_type": "stream",
     "text": [
      "[1 2 3 4 6 7 8]\n"
     ]
    }
   ],
   "source": [
    "# Unique\n",
    "\n",
    "var = np.array([1,2,3,4,2,3,4,2,6,7,8])\n",
    "x = np.unique(var)\n",
    "print(x)"
   ]
  },
  {
   "cell_type": "code",
   "execution_count": 22,
   "id": "7b9a3dc2",
   "metadata": {},
   "outputs": [
    {
     "name": "stdout",
     "output_type": "stream",
     "text": [
      "(array([1, 2, 3, 4, 6, 7, 8]), array([ 0,  1,  2,  3,  8,  9, 10], dtype=int64), array([1, 3, 2, 2, 1, 1, 1], dtype=int64))\n"
     ]
    }
   ],
   "source": [
    "var = np.array([1,2,3,4,2,3,4,2,6,7,8])\n",
    "x = np.unique(var,return_index=True,return_counts=True)\n",
    "print(x)"
   ]
  },
  {
   "cell_type": "code",
   "execution_count": 24,
   "id": "c6023a33",
   "metadata": {},
   "outputs": [
    {
     "name": "stdout",
     "output_type": "stream",
     "text": [
      "[[1 2 3]\n",
      " [4 5 6]]\n"
     ]
    }
   ],
   "source": [
    "# Resize\n",
    "var = np.array([1,2,3,4,5,6])\n",
    "x = np.resize(var,(2,3))\n",
    "print(x)"
   ]
  },
  {
   "cell_type": "code",
   "execution_count": 27,
   "id": "e23b6954",
   "metadata": {},
   "outputs": [
    {
     "name": "stdout",
     "output_type": "stream",
     "text": [
      "[[1 2]\n",
      " [3 4]\n",
      " [5 6]]\n"
     ]
    }
   ],
   "source": [
    "var = np.array([[1,2],[3,4],[5,6]])\n",
    "x = np.resize(var,(3,2))\n",
    "print(x)"
   ]
  },
  {
   "cell_type": "markdown",
   "id": "ff5f4653",
   "metadata": {},
   "source": [
    "# Flatten: convert 1D to 2D and 2D to 1D"
   ]
  },
  {
   "cell_type": "code",
   "execution_count": 28,
   "id": "dda00d5a",
   "metadata": {},
   "outputs": [
    {
     "name": "stdout",
     "output_type": "stream",
     "text": [
      "[[1 2 3]\n",
      " [4 5 6]]\n",
      "[1 2 3 4 5 6]\n"
     ]
    }
   ],
   "source": [
    "# Flatten: convert 1D to 2D and 2D to 1D\n",
    "\n",
    "\n",
    "var = np.array([1,2,3,4,5,6])\n",
    "x = np.resize(var,(2,3))\n",
    "print(x)\n",
    "print(x.flatten())"
   ]
  },
  {
   "cell_type": "code",
   "execution_count": 29,
   "id": "39e77e41",
   "metadata": {},
   "outputs": [
    {
     "name": "stdout",
     "output_type": "stream",
     "text": [
      "[[1 2 3]\n",
      " [4 5 6]]\n",
      "[1 4 2 5 3 6]\n"
     ]
    }
   ],
   "source": [
    "var = np.array([1,2,3,4,5,6])\n",
    "x = np.resize(var,(2,3))\n",
    "print(x)\n",
    "print(x.flatten(order=\"F\"))"
   ]
  },
  {
   "cell_type": "code",
   "execution_count": 30,
   "id": "e8191432",
   "metadata": {},
   "outputs": [
    {
     "name": "stdout",
     "output_type": "stream",
     "text": [
      "[[1 2 3]\n",
      " [4 5 6]]\n",
      "[1 2 3 4 5 6]\n"
     ]
    }
   ],
   "source": [
    "var = np.array([1,2,3,4,5,6])\n",
    "x = np.resize(var,(2,3))\n",
    "print(x)\n",
    "print(x.flatten(order=\"C\"))"
   ]
  },
  {
   "cell_type": "code",
   "execution_count": 31,
   "id": "992296bb",
   "metadata": {},
   "outputs": [
    {
     "name": "stdout",
     "output_type": "stream",
     "text": [
      "[[1 2 3]\n",
      " [4 5 6]]\n",
      "[1 2 3 4 5 6]\n"
     ]
    }
   ],
   "source": [
    "var = np.array([1,2,3,4,5,6])\n",
    "x = np.resize(var,(2,3))\n",
    "print(x)\n",
    "print(x.flatten(order=\"A\"))"
   ]
  },
  {
   "cell_type": "code",
   "execution_count": 32,
   "id": "8257b8c9",
   "metadata": {},
   "outputs": [
    {
     "name": "stdout",
     "output_type": "stream",
     "text": [
      "[[1 2 3]\n",
      " [4 5 6]]\n",
      "[1 2 3 4 5 6]\n"
     ]
    }
   ],
   "source": [
    "var = np.array([1,2,3,4,5,6])\n",
    "x = np.resize(var,(2,3))\n",
    "print(x)\n",
    "print(x.flatten(order=\"K\"))"
   ]
  },
  {
   "cell_type": "code",
   "execution_count": 34,
   "id": "77888707",
   "metadata": {},
   "outputs": [
    {
     "name": "stdout",
     "output_type": "stream",
     "text": [
      "[[1 2]\n",
      " [3 4]\n",
      " [5 6]]\n",
      "[1 2 3 4 5 6]\n",
      "[1 3 5 2 4 6]\n"
     ]
    }
   ],
   "source": [
    "# Ravel\n",
    "var = np.array([1,2,3,4,5,6])\n",
    "x = np.resize(var,(3,2))\n",
    "print(x)\n",
    "print(x.flatten(order=\"C\"))\n",
    "print(np.ravel(x,order=\"F\"))\n"
   ]
  },
  {
   "cell_type": "markdown",
   "id": "9d678beb",
   "metadata": {},
   "source": [
    "# Insert"
   ]
  },
  {
   "cell_type": "code",
   "execution_count": 36,
   "id": "7e146ec4",
   "metadata": {},
   "outputs": [
    {
     "name": "stdout",
     "output_type": "stream",
     "text": [
      "[1 2 3 4 5 6]\n",
      "[ 1  2 40  3  4 40  5  6]\n"
     ]
    }
   ],
   "source": [
    "# Insert\n",
    "\n",
    "var = np.array([1,2,3,4,5,6])\n",
    "print(var)\n",
    "\n",
    "x = np.insert(var,(2,4),40)\n",
    "print(x)"
   ]
  },
  {
   "cell_type": "code",
   "execution_count": 37,
   "id": "729ef52d",
   "metadata": {},
   "outputs": [
    {
     "name": "stdout",
     "output_type": "stream",
     "text": [
      "[1 2 3 4 5 6]\n",
      "[ 1  2 40  3  4  5  6]\n"
     ]
    }
   ],
   "source": [
    "\n",
    "var = np.array([1,2,3,4,5,6])\n",
    "print(var)\n",
    "\n",
    "x = np.insert(var,2,40)\n",
    "print(x)"
   ]
  },
  {
   "cell_type": "code",
   "execution_count": 39,
   "id": "fbb1e781",
   "metadata": {},
   "outputs": [
    {
     "name": "stdout",
     "output_type": "stream",
     "text": [
      "[[1 2 3]\n",
      " [4 5 6]\n",
      " [7 7 7]]\n"
     ]
    }
   ],
   "source": [
    "\n",
    "var = np.array([[1,2,3],[4,5,6]])\n",
    "\n",
    "\n",
    "x = np.insert(var,2,7,axis=0)\n",
    "print(x)"
   ]
  },
  {
   "cell_type": "code",
   "execution_count": 40,
   "id": "3f7b044e",
   "metadata": {},
   "outputs": [
    {
     "name": "stdout",
     "output_type": "stream",
     "text": [
      "[[1 2 7 3]\n",
      " [4 5 7 6]]\n"
     ]
    }
   ],
   "source": [
    "\n",
    "var = np.array([[1,2,3],[4,5,6]])\n",
    "\n",
    "\n",
    "x = np.insert(var,2,7,axis=1)\n",
    "print(x)"
   ]
  },
  {
   "cell_type": "code",
   "execution_count": 42,
   "id": "2ab556ab",
   "metadata": {},
   "outputs": [
    {
     "name": "stdout",
     "output_type": "stream",
     "text": [
      "[[ 1  2 11  3]\n",
      " [ 4  5 12  6]]\n"
     ]
    }
   ],
   "source": [
    "\n",
    "var = np.array([[1,2,3],[4,5,6]])\n",
    "\n",
    "\n",
    "x = np.insert(var,2,[11,12],axis=1)\n",
    "print(x)"
   ]
  },
  {
   "cell_type": "code",
   "execution_count": 43,
   "id": "e464489a",
   "metadata": {},
   "outputs": [
    {
     "name": "stdout",
     "output_type": "stream",
     "text": [
      "[[ 1  2  3]\n",
      " [ 4  5  6]\n",
      " [11 12 13]]\n"
     ]
    }
   ],
   "source": [
    "var = np.array([[1,2,3],[4,5,6]])\n",
    "\n",
    "\n",
    "x = np.insert(var,2,[11,12,13],axis=0)\n",
    "print(x)"
   ]
  },
  {
   "cell_type": "markdown",
   "id": "2829bc68",
   "metadata": {},
   "source": [
    "# Append"
   ]
  },
  {
   "cell_type": "code",
   "execution_count": 48,
   "id": "8fc9a4ee",
   "metadata": {},
   "outputs": [
    {
     "name": "stdout",
     "output_type": "stream",
     "text": [
      "[[ 1  2  3]\n",
      " [ 4  5  6]\n",
      " [11 12 13]]\n"
     ]
    }
   ],
   "source": [
    "# Append\n",
    "\n",
    "var = np.array([[1,2,3],[4,5,6]])\n",
    "\n",
    "\n",
    "x = np.append(var,[[11,12,13]],axis=0)\n",
    "print(x)"
   ]
  },
  {
   "cell_type": "markdown",
   "id": "77a06817",
   "metadata": {},
   "source": [
    "# Delete"
   ]
  },
  {
   "cell_type": "code",
   "execution_count": 49,
   "id": "2ca3073b",
   "metadata": {},
   "outputs": [
    {
     "name": "stdout",
     "output_type": "stream",
     "text": [
      "[1 2 3 4 5 6]\n",
      "[1 2 4 5 6]\n"
     ]
    }
   ],
   "source": [
    "# Delete\n",
    "\n",
    "var = np.array([1,2,3,4,5,6])\n",
    "print(var)\n",
    "\n",
    "x = np.delete(var,2)\n",
    "print(x)\n"
   ]
  },
  {
   "cell_type": "code",
   "execution_count": null,
   "id": "8f984788",
   "metadata": {},
   "outputs": [],
   "source": []
  }
 ],
 "metadata": {
  "kernelspec": {
   "display_name": "Python 3 (ipykernel)",
   "language": "python",
   "name": "python3"
  },
  "language_info": {
   "codemirror_mode": {
    "name": "ipython",
    "version": 3
   },
   "file_extension": ".py",
   "mimetype": "text/x-python",
   "name": "python",
   "nbconvert_exporter": "python",
   "pygments_lexer": "ipython3",
   "version": "3.11.3"
  }
 },
 "nbformat": 4,
 "nbformat_minor": 5
}
